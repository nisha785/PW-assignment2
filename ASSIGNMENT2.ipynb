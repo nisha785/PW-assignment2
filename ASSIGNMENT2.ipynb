{
 "cells": [
  {
   "cell_type": "code",
   "execution_count": 1,
   "id": "ca015526-4433-4e8b-8cf4-1e66ec42aa8e",
   "metadata": {},
   "outputs": [],
   "source": [
    "# ASSIGNMENT2"
   ]
  },
  {
   "cell_type": "code",
   "execution_count": 2,
   "id": "f2dc0530-139f-46c8-9bea-42a5b1376e80",
   "metadata": {},
   "outputs": [],
   "source": [
    " # Q Disccss string slicing and provide examples????\n",
    "    "
   ]
  },
  {
   "cell_type": "code",
   "execution_count": 4,
   "id": "ccb18578-d1d9-4b48-a8a8-8e75eff6568f",
   "metadata": {},
   "outputs": [
    {
     "data": {
      "text/plain": [
       "'HELLO HOW YOU DOING'"
      ]
     },
     "execution_count": 4,
     "metadata": {},
     "output_type": "execute_result"
    }
   ],
   "source": [
    "string=\"HELLO HOW YOU DOING\"\n",
    "string[0:]"
   ]
  },
  {
   "cell_type": "code",
   "execution_count": 5,
   "id": "23b24e05-645a-45a2-bebb-113617b8296c",
   "metadata": {},
   "outputs": [
    {
     "data": {
      "text/plain": [
       "'ELLO'"
      ]
     },
     "execution_count": 5,
     "metadata": {},
     "output_type": "execute_result"
    }
   ],
   "source": [
    "string[1:5]"
   ]
  },
  {
   "cell_type": "code",
   "execution_count": 6,
   "id": "f422f25f-b56a-411e-9fdd-7f7991c62a8b",
   "metadata": {},
   "outputs": [
    {
     "data": {
      "text/plain": [
       "'HELLO HOW YOU DOIN'"
      ]
     },
     "execution_count": 6,
     "metadata": {},
     "output_type": "execute_result"
    }
   ],
   "source": [
    "string[:-1]"
   ]
  },
  {
   "cell_type": "code",
   "execution_count": 7,
   "id": "d598177c-7b82-4d4c-a0bf-e8c307aee964",
   "metadata": {},
   "outputs": [
    {
     "data": {
      "text/plain": [
       "''"
      ]
     },
     "execution_count": 7,
     "metadata": {},
     "output_type": "execute_result"
    }
   ],
   "source": [
    "string[:]"
   ]
  },
  {
   "cell_type": "code",
   "execution_count": 8,
   "id": "6fa1f080-0556-4c05-91fd-9c8bf57e0db9",
   "metadata": {},
   "outputs": [
    {
     "data": {
      "text/plain": [
       "'HLOHWYUDIG'"
      ]
     },
     "execution_count": 8,
     "metadata": {},
     "output_type": "execute_result"
    }
   ],
   "source": [
    "string[0: :2]"
   ]
  },
  {
   "cell_type": "code",
   "execution_count": 9,
   "id": "896b2eb9-134a-4ff1-86e7-a63513bc015b",
   "metadata": {},
   "outputs": [
    {
     "data": {
      "text/plain": [
       "' DOING'"
      ]
     },
     "execution_count": 9,
     "metadata": {},
     "output_type": "execute_result"
    }
   ],
   "source": [
    "string[-6:]"
   ]
  },
  {
   "cell_type": "code",
   "execution_count": 10,
   "id": "ef41ddd3-03de-49c1-80e4-4334be7bce52",
   "metadata": {},
   "outputs": [],
   "source": [
    "# Q \n",
    "# Explain the key features of lists in Pythonn"
   ]
  },
  {
   "cell_type": "code",
   "execution_count": 11,
   "id": "67689264-d540-40cc-a915-2b05707fc0a5",
   "metadata": {},
   "outputs": [],
   "source": [
    "# list stores heterogenous data"
   ]
  },
  {
   "cell_type": "code",
   "execution_count": 12,
   "id": "67d7a574-4576-433b-98a2-fed099a61af4",
   "metadata": {},
   "outputs": [],
   "source": [
    "# list are mutable"
   ]
  },
  {
   "cell_type": "code",
   "execution_count": 13,
   "id": "db338d08-0ea4-4985-bdd7-916e4dc06786",
   "metadata": {},
   "outputs": [],
   "source": [
    "# its having ordered  collection"
   ]
  },
  {
   "cell_type": "code",
   "execution_count": 16,
   "id": "52143185-3f85-44a9-aa17-1345d93ba6ff",
   "metadata": {},
   "outputs": [
    {
     "data": {
      "text/plain": [
       "['pipe', 'mug', 2, (1+2j), 'ajay']"
      ]
     },
     "execution_count": 16,
     "metadata": {},
     "output_type": "execute_result"
    }
   ],
   "source": [
    "list=[\"pipe\",\"mug\",2,1+2j,\"ajay\"]\n",
    "list"
   ]
  },
  {
   "cell_type": "code",
   "execution_count": 17,
   "id": "ea26d30b-9947-40e2-b3f7-c71d84537246",
   "metadata": {},
   "outputs": [
    {
     "data": {
      "text/plain": [
       "'pipe'"
      ]
     },
     "execution_count": 17,
     "metadata": {},
     "output_type": "execute_result"
    }
   ],
   "source": [
    "list[0]"
   ]
  },
  {
   "cell_type": "code",
   "execution_count": 18,
   "id": "f1327ae2-10e2-4e59-afe8-1b7a3a59fcaa",
   "metadata": {},
   "outputs": [
    {
     "data": {
      "text/plain": [
       "['pipes', 'mug', 2, (1+2j), 'ajay']"
      ]
     },
     "execution_count": 18,
     "metadata": {},
     "output_type": "execute_result"
    }
   ],
   "source": [
    "list[0]=\"pipes\"\n",
    "list"
   ]
  },
  {
   "cell_type": "code",
   "execution_count": 19,
   "id": "b2710ef2-213b-42a8-882b-2187bf7527f6",
   "metadata": {},
   "outputs": [
    {
     "data": {
      "text/plain": [
       "['pipes', 'mug', 2]"
      ]
     },
     "execution_count": 19,
     "metadata": {},
     "output_type": "execute_result"
    }
   ],
   "source": [
    "list[0:3]"
   ]
  },
  {
   "cell_type": "code",
   "execution_count": 21,
   "id": "5a83db3c-7062-4bb0-8027-f45824236e03",
   "metadata": {},
   "outputs": [
    {
     "data": {
      "text/plain": [
       "False"
      ]
     },
     "execution_count": 21,
     "metadata": {},
     "output_type": "execute_result"
    }
   ],
   "source": [
    "\"mug\"in list"
   ]
  },
  {
   "cell_type": "code",
   "execution_count": 22,
   "id": "00a5d645-f2d4-4d02-b6be-9d738df6bc3a",
   "metadata": {},
   "outputs": [],
   "source": [
    "# Q Describe how to access modify and delete elements on a list witth examples"
   ]
  },
  {
   "cell_type": "code",
   "execution_count": 24,
   "id": "0b345760-315f-4b0d-9425-37b97bb164ed",
   "metadata": {},
   "outputs": [
    {
     "data": {
      "text/plain": [
       "['apple', 'mango', 'kiwi']"
      ]
     },
     "execution_count": 24,
     "metadata": {},
     "output_type": "execute_result"
    }
   ],
   "source": [
    "lists=[\"apple\",\"mango\",\"kiwi\"]\n",
    "lists"
   ]
  },
  {
   "cell_type": "code",
   "execution_count": 25,
   "id": "fadb550b-2e22-44de-81d7-28daa2030718",
   "metadata": {},
   "outputs": [
    {
     "data": {
      "text/plain": [
       "'mango'"
      ]
     },
     "execution_count": 25,
     "metadata": {},
     "output_type": "execute_result"
    }
   ],
   "source": [
    "lists[1]"
   ]
  },
  {
   "cell_type": "code",
   "execution_count": 26,
   "id": "1f3d0f02-2598-4ceb-b51f-b0321e7f9077",
   "metadata": {},
   "outputs": [],
   "source": [
    "lists[1]=\"strawberry\""
   ]
  },
  {
   "cell_type": "code",
   "execution_count": 27,
   "id": "cff8be54-30c8-4cdc-a96f-b8d52d30ab9d",
   "metadata": {},
   "outputs": [
    {
     "data": {
      "text/plain": [
       "['apple', 'strawberry', 'kiwi']"
      ]
     },
     "execution_count": 27,
     "metadata": {},
     "output_type": "execute_result"
    }
   ],
   "source": [
    "lists"
   ]
  },
  {
   "cell_type": "code",
   "execution_count": 28,
   "id": "72b35084-5658-4dfc-9e34-bd963cc910e2",
   "metadata": {},
   "outputs": [],
   "source": [
    "lists.remove(\"kiwi\")"
   ]
  },
  {
   "cell_type": "code",
   "execution_count": 29,
   "id": "02064f71-1b1b-4671-b3eb-9d42d07dfed5",
   "metadata": {},
   "outputs": [
    {
     "data": {
      "text/plain": [
       "['apple', 'strawberry']"
      ]
     },
     "execution_count": 29,
     "metadata": {},
     "output_type": "execute_result"
    }
   ],
   "source": [
    "lists"
   ]
  },
  {
   "cell_type": "code",
   "execution_count": 30,
   "id": "aab75318-984e-488b-82b1-25e80ea088dd",
   "metadata": {},
   "outputs": [],
   "source": [
    "# Q  Compare and contrast tuples and lists with examples ??? "
   ]
  },
  {
   "cell_type": "code",
   "execution_count": 31,
   "id": "1870abae-fa32-4b66-8a0f-5c11d16d71f2",
   "metadata": {},
   "outputs": [
    {
     "data": {
      "text/plain": [
       "('ajay', 'bijay', 'cijay', 4, 10)"
      ]
     },
     "execution_count": 31,
     "metadata": {},
     "output_type": "execute_result"
    }
   ],
   "source": [
    "tuple=(\"ajay\",\"bijay\",\"cijay\",4,10)\n",
    "tuple"
   ]
  },
  {
   "cell_type": "code",
   "execution_count": 32,
   "id": "e8947e8d-2774-4ac9-9afe-c64b78635b56",
   "metadata": {},
   "outputs": [
    {
     "data": {
      "text/plain": [
       "tuple"
      ]
     },
     "execution_count": 32,
     "metadata": {},
     "output_type": "execute_result"
    }
   ],
   "source": [
    "type(tuple)"
   ]
  },
  {
   "cell_type": "code",
   "execution_count": 33,
   "id": "d4c0be55-19c2-4f83-9f18-0fc569d5d3f8",
   "metadata": {},
   "outputs": [],
   "source": [
    "# list are mutable \n",
    "# tuples are immutable"
   ]
  },
  {
   "cell_type": "code",
   "execution_count": 34,
   "id": "d0bb4044-0f05-4316-8611-86e36baabee0",
   "metadata": {},
   "outputs": [
    {
     "data": {
      "text/plain": [
       "'ajay'"
      ]
     },
     "execution_count": 34,
     "metadata": {},
     "output_type": "execute_result"
    }
   ],
   "source": [
    "tuple[0]"
   ]
  },
  {
   "cell_type": "code",
   "execution_count": 35,
   "id": "f76ae709-f41b-474f-b7fd-855674792cd9",
   "metadata": {},
   "outputs": [
    {
     "ename": "TypeError",
     "evalue": "'tuple' object does not support item assignment",
     "output_type": "error",
     "traceback": [
      "\u001b[0;31m---------------------------------------------------------------------------\u001b[0m",
      "\u001b[0;31mTypeError\u001b[0m                                 Traceback (most recent call last)",
      "Cell \u001b[0;32mIn[35], line 1\u001b[0m\n\u001b[0;32m----> 1\u001b[0m \u001b[38;5;28;43mtuple\u001b[39;49m\u001b[43m[\u001b[49m\u001b[38;5;241;43m0\u001b[39;49m\u001b[43m]\u001b[49m\u001b[38;5;241m=\u001b[39m\u001b[38;5;124m\"\u001b[39m\u001b[38;5;124maj\u001b[39m\u001b[38;5;124m\"\u001b[39m\n",
      "\u001b[0;31mTypeError\u001b[0m: 'tuple' object does not support item assignment"
     ]
    }
   ],
   "source": [
    "tuple[0]=\"aj\""
   ]
  },
  {
   "cell_type": "code",
   "execution_count": 36,
   "id": "bda58167-8812-41ec-8afc-be18255d9c28",
   "metadata": {},
   "outputs": [],
   "source": [
    "# in above tuples are immuatbel"
   ]
  },
  {
   "cell_type": "code",
   "execution_count": 37,
   "id": "2269690f-b88d-40c6-a92b-bf0573211194",
   "metadata": {},
   "outputs": [],
   "source": [
    "# Q  Describe the key features of sets and provide examples of their use??? \n"
   ]
  },
  {
   "cell_type": "code",
   "execution_count": 38,
   "id": "4cb3ce32-9a64-474f-b434-6bf307606564",
   "metadata": {},
   "outputs": [
    {
     "data": {
      "text/plain": [
       "{1, 2, 3, 4, 5}"
      ]
     },
     "execution_count": 38,
     "metadata": {},
     "output_type": "execute_result"
    }
   ],
   "source": [
    "s={1,2,3,4,5}\n",
    "s"
   ]
  },
  {
   "cell_type": "code",
   "execution_count": 39,
   "id": "ff8a70b1-2cd0-4e9d-b30a-4cb2c90b64a8",
   "metadata": {},
   "outputs": [
    {
     "data": {
      "text/plain": [
       "set"
      ]
     },
     "execution_count": 39,
     "metadata": {},
     "output_type": "execute_result"
    }
   ],
   "source": [
    "type(s)"
   ]
  },
  {
   "cell_type": "code",
   "execution_count": 40,
   "id": "7dce4dec-72e1-4e4d-acb7-4ea2bbd8198e",
   "metadata": {},
   "outputs": [],
   "source": [
    "# key features: \n",
    "# unordered collection\n",
    "# gives unique items\n",
    "# no indexing is supported \n",
    "# mutable it is\n",
    "# set operations"
   ]
  },
  {
   "cell_type": "code",
   "execution_count": 41,
   "id": "241cfedb-b4b2-4ee9-976b-585002b8969d",
   "metadata": {},
   "outputs": [],
   "source": [
    "s.add(5)"
   ]
  },
  {
   "cell_type": "code",
   "execution_count": 42,
   "id": "d1912979-6985-4d49-a47e-c7be158d093f",
   "metadata": {},
   "outputs": [
    {
     "data": {
      "text/plain": [
       "{1, 2, 3, 4, 5}"
      ]
     },
     "execution_count": 42,
     "metadata": {},
     "output_type": "execute_result"
    }
   ],
   "source": [
    "s"
   ]
  },
  {
   "cell_type": "code",
   "execution_count": 43,
   "id": "d90fb5c0-34e1-42a0-bb59-f16f92484857",
   "metadata": {},
   "outputs": [
    {
     "data": {
      "text/plain": [
       "1"
      ]
     },
     "execution_count": 43,
     "metadata": {},
     "output_type": "execute_result"
    }
   ],
   "source": [
    "s.pop()"
   ]
  },
  {
   "cell_type": "code",
   "execution_count": 47,
   "id": "f53d3ab2-01b8-4d2a-b8a3-665943aff1d7",
   "metadata": {},
   "outputs": [
    {
     "data": {
      "text/plain": [
       "{1, 2, 3, 4, 5}"
      ]
     },
     "execution_count": 47,
     "metadata": {},
     "output_type": "execute_result"
    }
   ],
   "source": [
    "s1={1,2,3}\n",
    "s2={3,4,5}\n",
    "s1 | s2"
   ]
  },
  {
   "cell_type": "code",
   "execution_count": 48,
   "id": "aa61b518-dc6e-40a3-8357-d69931afde5a",
   "metadata": {},
   "outputs": [
    {
     "data": {
      "text/plain": [
       "{3}"
      ]
     },
     "execution_count": 48,
     "metadata": {},
     "output_type": "execute_result"
    }
   ],
   "source": [
    "s1 & s2"
   ]
  },
  {
   "cell_type": "code",
   "execution_count": 49,
   "id": "d5b8798b-25d0-4d67-a31f-1b091bf93256",
   "metadata": {},
   "outputs": [
    {
     "data": {
      "text/plain": [
       "{1, 2}"
      ]
     },
     "execution_count": 49,
     "metadata": {},
     "output_type": "execute_result"
    }
   ],
   "source": [
    "s1 - s2"
   ]
  },
  {
   "cell_type": "code",
   "execution_count": 50,
   "id": "e88127d6-8d38-4d3e-a747-a62d13005fb6",
   "metadata": {},
   "outputs": [
    {
     "data": {
      "text/plain": [
       "{1, 2, 4, 5}"
      ]
     },
     "execution_count": 50,
     "metadata": {},
     "output_type": "execute_result"
    }
   ],
   "source": [
    "s1 ^ s2"
   ]
  },
  {
   "cell_type": "code",
   "execution_count": 51,
   "id": "54e7c513-83b5-4f1f-8467-8a3ba02038e1",
   "metadata": {},
   "outputs": [],
   "source": [
    "## Q Disccss the use cases of tuples and sets in Python programming?? "
   ]
  },
  {
   "cell_type": "code",
   "execution_count": 52,
   "id": "30bcef35-bee4-4f82-9ada-3df79c50da26",
   "metadata": {},
   "outputs": [],
   "source": [
    "# tuples: "
   ]
  },
  {
   "cell_type": "code",
   "execution_count": 53,
   "id": "f52ffbbc-7b61-495b-b576-de6006e8d991",
   "metadata": {},
   "outputs": [],
   "source": [
    "# immutable\n",
    "# returns multiple values\n",
    "# strores heterogenous data"
   ]
  },
  {
   "cell_type": "code",
   "execution_count": 54,
   "id": "d051edcf-b370-45ac-b531-6cc96507b260",
   "metadata": {},
   "outputs": [],
   "source": [
    "# sets\n",
    "# unordered collection\n",
    "# gives unique items\n",
    "# no indexing is supported \n",
    "# mutable it is\n",
    "# set operations"
   ]
  },
  {
   "cell_type": "code",
   "execution_count": 55,
   "id": "89bf7434-62c7-4529-9fd7-ce53f4a07eaf",
   "metadata": {},
   "outputs": [
    {
     "name": "stdout",
     "output_type": "stream",
     "text": [
      "<class 'tuple'>\n"
     ]
    }
   ],
   "source": [
    "tuple=(1,2,3)\n",
    "print(type(tuple))"
   ]
  },
  {
   "cell_type": "code",
   "execution_count": 56,
   "id": "f399ac8d-b54b-4748-90c3-f33898e1b406",
   "metadata": {},
   "outputs": [
    {
     "name": "stdout",
     "output_type": "stream",
     "text": [
      "<class 'set'>\n"
     ]
    }
   ],
   "source": [
    "sets={1,2,3}\n",
    "print(type(sets))"
   ]
  },
  {
   "cell_type": "code",
   "execution_count": 57,
   "id": "48202e8f-3002-4727-8ab9-0cb7b8f38f3e",
   "metadata": {},
   "outputs": [],
   "source": [
    "## Q . Describe how to add modify and delete items in a dictoonary witth examples:"
   ]
  },
  {
   "cell_type": "code",
   "execution_count": 58,
   "id": "37110ac0-7ed5-4b1d-be6c-7e819e93d97f",
   "metadata": {},
   "outputs": [],
   "source": [
    "dic={\"name\":\"ajay\",\"rol\":45,\"city\":\"pune\"}"
   ]
  },
  {
   "cell_type": "code",
   "execution_count": 59,
   "id": "6db19729-0af1-4d1b-9642-b3268154d853",
   "metadata": {},
   "outputs": [
    {
     "data": {
      "text/plain": [
       "{'name': 'ajay', 'rol': 45, 'city': 'pune'}"
      ]
     },
     "execution_count": 59,
     "metadata": {},
     "output_type": "execute_result"
    }
   ],
   "source": [
    "dic"
   ]
  },
  {
   "cell_type": "code",
   "execution_count": 60,
   "id": "c5811373-a5b5-4a08-bac5-e9b39225eff4",
   "metadata": {},
   "outputs": [
    {
     "data": {
      "text/plain": [
       "dict"
      ]
     },
     "execution_count": 60,
     "metadata": {},
     "output_type": "execute_result"
    }
   ],
   "source": [
    "type(dic)"
   ]
  },
  {
   "cell_type": "code",
   "execution_count": 61,
   "id": "b7315ebc-20a3-44a8-ae5f-3ba1560d484f",
   "metadata": {},
   "outputs": [
    {
     "data": {
      "text/plain": [
       "{'name': 'ajay', 'rol': 45, 'city': 'pune', 'country': 'india'}"
      ]
     },
     "execution_count": 61,
     "metadata": {},
     "output_type": "execute_result"
    }
   ],
   "source": [
    "dic[\"country\"]=\"india\"\n",
    "dic"
   ]
  },
  {
   "cell_type": "code",
   "execution_count": 62,
   "id": "3fb5b791-6ef3-49b5-9070-a98556b8d9b4",
   "metadata": {},
   "outputs": [],
   "source": [
    "del dic[\"city\"]"
   ]
  },
  {
   "cell_type": "code",
   "execution_count": 63,
   "id": "10058557-f1ad-4848-af00-ff512e52b1f2",
   "metadata": {},
   "outputs": [
    {
     "data": {
      "text/plain": [
       "{'name': 'ajay', 'rol': 45, 'country': 'india'}"
      ]
     },
     "execution_count": 63,
     "metadata": {},
     "output_type": "execute_result"
    }
   ],
   "source": [
    "dic"
   ]
  },
  {
   "cell_type": "code",
   "execution_count": 64,
   "id": "c5667959-6841-4f33-9361-51e821f5df01",
   "metadata": {},
   "outputs": [
    {
     "data": {
      "text/plain": [
       "{'name': 'bijay', 'rol': 45, 'country': 'india'}"
      ]
     },
     "execution_count": 64,
     "metadata": {},
     "output_type": "execute_result"
    }
   ],
   "source": [
    "dic[\"name\"]=\"bijay\"\n",
    "dic"
   ]
  },
  {
   "cell_type": "code",
   "execution_count": 65,
   "id": "41f5db2e-91d3-4534-9ce5-1092e838f77f",
   "metadata": {},
   "outputs": [],
   "source": [
    "# Q.  Disccss the importance of dictionary keys being immutable and provide examples"
   ]
  },
  {
   "cell_type": "code",
   "execution_count": 66,
   "id": "fd9997f6-cc84-456d-9123-bf741b0d291a",
   "metadata": {},
   "outputs": [],
   "source": [
    "# key cannot be something that is mutable \n",
    "# key can be tuple\n",
    "# value counld be something that is mutable"
   ]
  },
  {
   "cell_type": "code",
   "execution_count": null,
   "id": "bd5a2673-9641-4360-ad15-4eddbb26f15f",
   "metadata": {},
   "outputs": [],
   "source": [
    "dict"
   ]
  }
 ],
 "metadata": {
  "kernelspec": {
   "display_name": "Python 3 (ipykernel)",
   "language": "python",
   "name": "python3"
  },
  "language_info": {
   "codemirror_mode": {
    "name": "ipython",
    "version": 3
   },
   "file_extension": ".py",
   "mimetype": "text/x-python",
   "name": "python",
   "nbconvert_exporter": "python",
   "pygments_lexer": "ipython3",
   "version": "3.10.8"
  }
 },
 "nbformat": 4,
 "nbformat_minor": 5
}
